{
 "cells": [
  {
   "cell_type": "code",
   "execution_count": 90,
   "metadata": {},
   "outputs": [],
   "source": [
    "import numpy as np\n",
    "import pandas as pd\n",
    "import tensorflow as tf\n",
    "import os\n",
    "import random\n",
    "import shutil\n",
    "import matplotlib.pyplot as plt\n",
    "from tensorflow import keras\n",
    "from tensorflow.keras.models import Sequential\n",
    "from tensorflow.keras.preprocessing.image import ImageDataGenerator\n",
    "from tensorflow.keras.optimizers import Adam, RMSprop, SGD\n",
    "from tensorflow.keras.layers import Conv2D, MaxPooling2D, Dense, Dropout, Flatten"
   ]
  },
  {
   "cell_type": "code",
   "execution_count": 7,
   "metadata": {},
   "outputs": [
    {
     "data": {
      "text/html": [
       "<div>\n",
       "<style scoped>\n",
       "    .dataframe tbody tr th:only-of-type {\n",
       "        vertical-align: middle;\n",
       "    }\n",
       "\n",
       "    .dataframe tbody tr th {\n",
       "        vertical-align: top;\n",
       "    }\n",
       "\n",
       "    .dataframe thead th {\n",
       "        text-align: right;\n",
       "    }\n",
       "</style>\n",
       "<table border=\"1\" class=\"dataframe\">\n",
       "  <thead>\n",
       "    <tr style=\"text-align: right;\">\n",
       "      <th></th>\n",
       "      <th>Image</th>\n",
       "      <th>Class</th>\n",
       "      <th>Mean</th>\n",
       "      <th>Variance</th>\n",
       "      <th>Standard Deviation</th>\n",
       "      <th>Entropy</th>\n",
       "      <th>Skewness</th>\n",
       "      <th>Kurtosis</th>\n",
       "      <th>Contrast</th>\n",
       "      <th>Energy</th>\n",
       "      <th>ASM</th>\n",
       "      <th>Homogeneity</th>\n",
       "      <th>Dissimilarity</th>\n",
       "      <th>Correlation</th>\n",
       "      <th>Coarseness</th>\n",
       "    </tr>\n",
       "  </thead>\n",
       "  <tbody>\n",
       "    <tr>\n",
       "      <td>0</td>\n",
       "      <td>Image1</td>\n",
       "      <td>0</td>\n",
       "      <td>6.535339</td>\n",
       "      <td>619.587845</td>\n",
       "      <td>24.891522</td>\n",
       "      <td>0.109059</td>\n",
       "      <td>4.276477</td>\n",
       "      <td>18.900575</td>\n",
       "      <td>98.613971</td>\n",
       "      <td>0.293314</td>\n",
       "      <td>0.086033</td>\n",
       "      <td>0.530941</td>\n",
       "      <td>4.473346</td>\n",
       "      <td>0.981939</td>\n",
       "      <td>7.458341e-155</td>\n",
       "    </tr>\n",
       "    <tr>\n",
       "      <td>1</td>\n",
       "      <td>Image2</td>\n",
       "      <td>0</td>\n",
       "      <td>8.749969</td>\n",
       "      <td>805.957634</td>\n",
       "      <td>28.389393</td>\n",
       "      <td>0.266538</td>\n",
       "      <td>3.718116</td>\n",
       "      <td>14.464618</td>\n",
       "      <td>63.858816</td>\n",
       "      <td>0.475051</td>\n",
       "      <td>0.225674</td>\n",
       "      <td>0.651352</td>\n",
       "      <td>3.220072</td>\n",
       "      <td>0.988834</td>\n",
       "      <td>7.458341e-155</td>\n",
       "    </tr>\n",
       "    <tr>\n",
       "      <td>2</td>\n",
       "      <td>Image3</td>\n",
       "      <td>1</td>\n",
       "      <td>7.341095</td>\n",
       "      <td>1143.808219</td>\n",
       "      <td>33.820234</td>\n",
       "      <td>0.001467</td>\n",
       "      <td>5.061750</td>\n",
       "      <td>26.479563</td>\n",
       "      <td>81.867206</td>\n",
       "      <td>0.031917</td>\n",
       "      <td>0.001019</td>\n",
       "      <td>0.268275</td>\n",
       "      <td>5.981800</td>\n",
       "      <td>0.978014</td>\n",
       "      <td>7.458341e-155</td>\n",
       "    </tr>\n",
       "    <tr>\n",
       "      <td>3</td>\n",
       "      <td>Image4</td>\n",
       "      <td>1</td>\n",
       "      <td>5.958145</td>\n",
       "      <td>959.711985</td>\n",
       "      <td>30.979219</td>\n",
       "      <td>0.001477</td>\n",
       "      <td>5.677977</td>\n",
       "      <td>33.428845</td>\n",
       "      <td>151.229741</td>\n",
       "      <td>0.032024</td>\n",
       "      <td>0.001026</td>\n",
       "      <td>0.243851</td>\n",
       "      <td>7.700919</td>\n",
       "      <td>0.964189</td>\n",
       "      <td>7.458341e-155</td>\n",
       "    </tr>\n",
       "    <tr>\n",
       "      <td>4</td>\n",
       "      <td>Image5</td>\n",
       "      <td>0</td>\n",
       "      <td>7.315231</td>\n",
       "      <td>729.540579</td>\n",
       "      <td>27.010009</td>\n",
       "      <td>0.146761</td>\n",
       "      <td>4.283221</td>\n",
       "      <td>19.079108</td>\n",
       "      <td>174.988756</td>\n",
       "      <td>0.343849</td>\n",
       "      <td>0.118232</td>\n",
       "      <td>0.501140</td>\n",
       "      <td>6.834689</td>\n",
       "      <td>0.972789</td>\n",
       "      <td>7.458341e-155</td>\n",
       "    </tr>\n",
       "  </tbody>\n",
       "</table>\n",
       "</div>"
      ],
      "text/plain": [
       "    Image  Class      Mean     Variance  Standard Deviation   Entropy  \\\n",
       "0  Image1      0  6.535339   619.587845           24.891522  0.109059   \n",
       "1  Image2      0  8.749969   805.957634           28.389393  0.266538   \n",
       "2  Image3      1  7.341095  1143.808219           33.820234  0.001467   \n",
       "3  Image4      1  5.958145   959.711985           30.979219  0.001477   \n",
       "4  Image5      0  7.315231   729.540579           27.010009  0.146761   \n",
       "\n",
       "   Skewness   Kurtosis    Contrast    Energy       ASM  Homogeneity  \\\n",
       "0  4.276477  18.900575   98.613971  0.293314  0.086033     0.530941   \n",
       "1  3.718116  14.464618   63.858816  0.475051  0.225674     0.651352   \n",
       "2  5.061750  26.479563   81.867206  0.031917  0.001019     0.268275   \n",
       "3  5.677977  33.428845  151.229741  0.032024  0.001026     0.243851   \n",
       "4  4.283221  19.079108  174.988756  0.343849  0.118232     0.501140   \n",
       "\n",
       "   Dissimilarity  Correlation     Coarseness  \n",
       "0       4.473346     0.981939  7.458341e-155  \n",
       "1       3.220072     0.988834  7.458341e-155  \n",
       "2       5.981800     0.978014  7.458341e-155  \n",
       "3       7.700919     0.964189  7.458341e-155  \n",
       "4       6.834689     0.972789  7.458341e-155  "
      ]
     },
     "execution_count": 7,
     "metadata": {},
     "output_type": "execute_result"
    }
   ],
   "source": [
    "df = pd.read_csv(\"Brain Tumor.csv\")\n",
    "df.head(5)"
   ]
  },
  {
   "cell_type": "code",
   "execution_count": 17,
   "metadata": {},
   "outputs": [
    {
     "name": "stdout",
     "output_type": "stream",
     "text": [
      "[['Brain Tumor/Image1.jpg', 0], ['Brain Tumor/Image2.jpg', 0], ['Brain Tumor/Image3.jpg', 1], ['Brain Tumor/Image4.jpg', 1], ['Brain Tumor/Image5.jpg', 0], ['Brain Tumor/Image6.jpg', 0], ['Brain Tumor/Image7.jpg', 0], ['Brain Tumor/Image8.jpg', 0], ['Brain Tumor/Image9.jpg', 0], ['Brain Tumor/Image10.jpg', 1]]\n"
     ]
    }
   ],
   "source": [
    "image_list = []\n",
    "for idx, item in df.iterrows():\n",
    "    name = \"Brain Tumor/\" + item['Image'] + \".jpg\"\n",
    "    target = item['Class']\n",
    "    image_list.append([name, target])\n",
    "print(image_list[:10])"
   ]
  },
  {
   "cell_type": "code",
   "execution_count": 20,
   "metadata": {},
   "outputs": [
    {
     "name": "stdout",
     "output_type": "stream",
     "text": [
      "1683\n",
      "2079\n"
     ]
    }
   ],
   "source": [
    "positive = []\n",
    "negative = []\n",
    "for item in image_list:\n",
    "    if item[1] == 1:\n",
    "        positive.append(item)\n",
    "    else:\n",
    "        negative.append(item)\n",
    "print(len(positive))\n",
    "print(len(negative))"
   ]
  },
  {
   "cell_type": "code",
   "execution_count": 21,
   "metadata": {},
   "outputs": [],
   "source": [
    "TRAIN_POS_DIR = 'Data/train/Positive'\n",
    "TRAIN_NEG_DIR = 'Data/train/Negative'\n",
    "TEST_POS_DIR = 'Data/test/Positive'\n",
    "TEST_NEG_DIR = 'Data/test/Negative'"
   ]
  },
  {
   "cell_type": "code",
   "execution_count": 23,
   "metadata": {},
   "outputs": [],
   "source": [
    "pos_sample = random.sample(positive, 1600)\n",
    "neg_sample = random.sample(negative, 1600)\n",
    "pos_train = random.sample(pos_sample, 1440)\n",
    "neg_train = random.sample(neg_sample, 1440)\n",
    "pos_test = [item for item in pos_sample if item not in pos_train]\n",
    "neg_test = [item for item in neg_sample if item not in neg_train]"
   ]
  },
  {
   "cell_type": "code",
   "execution_count": 25,
   "metadata": {},
   "outputs": [],
   "source": [
    "src_des = [[pos_train, TRAIN_POS_DIR], [neg_train, TRAIN_NEG_DIR], [pos_test, TEST_POS_DIR], [neg_test, TEST_NEG_DIR]]\n",
    "for item in src_des:\n",
    "    imglist = item[0]\n",
    "    des = item[1]\n",
    "    for img in imglist:\n",
    "        src = img[0]\n",
    "        shutil.copy(src, des)"
   ]
  },
  {
   "cell_type": "code",
   "execution_count": 84,
   "metadata": {},
   "outputs": [
    {
     "name": "stdout",
     "output_type": "stream",
     "text": [
      "Found 2880 images belonging to 2 classes.\n",
      "Found 320 images belonging to 2 classes.\n"
     ]
    }
   ],
   "source": [
    "TRAIN_DATA = 'Data/train'\n",
    "VAL_DATA = 'Data/test'\n",
    "image_datagen = ImageDataGenerator(rescale = 1./255)\n",
    "\n",
    "train_gen = image_datagen.flow_from_directory(TRAIN_DATA,\n",
    "                                              batch_size = 32,\n",
    "                                              class_mode = 'binary',\n",
    "                                              target_size = (240, 240))\n",
    "\n",
    "val_gen = image_datagen.flow_from_directory(VAL_DATA,\n",
    "                                              batch_size = 32,\n",
    "                                              class_mode = 'binary',\n",
    "                                              target_size = (240, 240))"
   ]
  },
  {
   "cell_type": "code",
   "execution_count": 85,
   "metadata": {},
   "outputs": [
    {
     "name": "stdout",
     "output_type": "stream",
     "text": [
      "Model: \"sequential\"\n",
      "_________________________________________________________________\n",
      "Layer (type)                 Output Shape              Param #   \n",
      "=================================================================\n",
      "conv2d (Conv2D)              (None, 240, 240, 8)       224       \n",
      "_________________________________________________________________\n",
      "max_pooling2d (MaxPooling2D) (None, 120, 120, 8)       0         \n",
      "_________________________________________________________________\n",
      "conv2d_1 (Conv2D)            (None, 120, 120, 16)      1168      \n",
      "_________________________________________________________________\n",
      "max_pooling2d_1 (MaxPooling2 (None, 60, 60, 16)        0         \n",
      "_________________________________________________________________\n",
      "conv2d_2 (Conv2D)            (None, 60, 60, 32)        4640      \n",
      "_________________________________________________________________\n",
      "max_pooling2d_2 (MaxPooling2 (None, 30, 30, 32)        0         \n",
      "_________________________________________________________________\n",
      "conv2d_3 (Conv2D)            (None, 30, 30, 64)        18496     \n",
      "_________________________________________________________________\n",
      "max_pooling2d_3 (MaxPooling2 (None, 15, 15, 64)        0         \n",
      "_________________________________________________________________\n",
      "flatten (Flatten)            (None, 14400)             0         \n",
      "_________________________________________________________________\n",
      "dense (Dense)                (None, 32)                460832    \n",
      "_________________________________________________________________\n",
      "dense_1 (Dense)              (None, 1)                 33        \n",
      "=================================================================\n",
      "Total params: 485,393\n",
      "Trainable params: 485,393\n",
      "Non-trainable params: 0\n",
      "_________________________________________________________________\n"
     ]
    }
   ],
   "source": [
    "model = Sequential()\n",
    "model.add(Conv2D(8, (3,3), padding='same', activation='tanh', input_shape=(240, 240, 3)))\n",
    "model.add(MaxPooling2D((2, 2)))\n",
    "model.add(Conv2D(16, (3,3), padding='same', activation='tanh'))\n",
    "model.add(MaxPooling2D((2, 2)))\n",
    "model.add(Conv2D(32, (3,3), padding='same', activation='tanh'))\n",
    "model.add(MaxPooling2D((2, 2)))\n",
    "model.add(Conv2D(64, (3,3), padding='same', activation='tanh'))\n",
    "model.add(MaxPooling2D((2, 2)))\n",
    "model.add(Flatten())\n",
    "model.add(Dense(32, activation='tanh'))\n",
    "#model.add(Dense(8, activation='relu'))\n",
    "model.add(Dense(1, activation='sigmoid'))\n",
    "\n",
    "model.summary()"
   ]
  },
  {
   "cell_type": "code",
   "execution_count": 86,
   "metadata": {},
   "outputs": [],
   "source": [
    "model.compile(optimizer=SGD(0.001), loss='binary_crossentropy', metrics=['accuracy'])"
   ]
  },
  {
   "cell_type": "code",
   "execution_count": 87,
   "metadata": {},
   "outputs": [
    {
     "name": "stdout",
     "output_type": "stream",
     "text": [
      "WARNING:tensorflow:sample_weight modes were coerced from\n",
      "  ...\n",
      "    to  \n",
      "  ['...']\n",
      "WARNING:tensorflow:sample_weight modes were coerced from\n",
      "  ...\n",
      "    to  \n",
      "  ['...']\n",
      "Train for 90 steps, validate for 10 steps\n",
      "Epoch 1/20\n",
      "90/90 [==============================] - 112s 1s/step - loss: 0.6787 - accuracy: 0.6333 - val_loss: 0.6548 - val_accuracy: 0.7969\n",
      "Epoch 2/20\n",
      "90/90 [==============================] - 104s 1s/step - loss: 0.6387 - accuracy: 0.7618 - val_loss: 0.6132 - val_accuracy: 0.8031\n",
      "Epoch 3/20\n",
      "90/90 [==============================] - 99s 1s/step - loss: 0.6020 - accuracy: 0.7635 - val_loss: 0.5716 - val_accuracy: 0.8031\n",
      "Epoch 4/20\n",
      "90/90 [==============================] - 100s 1s/step - loss: 0.5667 - accuracy: 0.7691 - val_loss: 0.5321 - val_accuracy: 0.8000\n",
      "Epoch 5/20\n",
      "90/90 [==============================] - 113s 1s/step - loss: 0.5383 - accuracy: 0.7681 - val_loss: 0.5027 - val_accuracy: 0.8125\n",
      "Epoch 6/20\n",
      "90/90 [==============================] - 112s 1s/step - loss: 0.5196 - accuracy: 0.7681 - val_loss: 0.4834 - val_accuracy: 0.8156\n",
      "Epoch 7/20\n",
      "90/90 [==============================] - 121s 1s/step - loss: 0.5089 - accuracy: 0.7691 - val_loss: 0.4719 - val_accuracy: 0.8156\n",
      "Epoch 8/20\n",
      "90/90 [==============================] - 122s 1s/step - loss: 0.5024 - accuracy: 0.7715 - val_loss: 0.4651 - val_accuracy: 0.8219\n",
      "Epoch 9/20\n",
      "90/90 [==============================] - 115s 1s/step - loss: 0.4982 - accuracy: 0.7688 - val_loss: 0.4599 - val_accuracy: 0.8219\n",
      "Epoch 10/20\n",
      "90/90 [==============================] - 107s 1s/step - loss: 0.4946 - accuracy: 0.7719 - val_loss: 0.4568 - val_accuracy: 0.8250\n",
      "Epoch 11/20\n",
      "90/90 [==============================] - 129s 1s/step - loss: 0.4919 - accuracy: 0.7743 - val_loss: 0.4548 - val_accuracy: 0.8219\n",
      "Epoch 12/20\n",
      "90/90 [==============================] - 121s 1s/step - loss: 0.4895 - accuracy: 0.7743 - val_loss: 0.4518 - val_accuracy: 0.8219\n",
      "Epoch 13/20\n",
      "90/90 [==============================] - 125s 1s/step - loss: 0.4869 - accuracy: 0.7781 - val_loss: 0.4498 - val_accuracy: 0.8219\n",
      "Epoch 14/20\n",
      "90/90 [==============================] - 109s 1s/step - loss: 0.4846 - accuracy: 0.7778 - val_loss: 0.4481 - val_accuracy: 0.8219\n",
      "Epoch 15/20\n",
      "90/90 [==============================] - 107s 1s/step - loss: 0.4819 - accuracy: 0.7802 - val_loss: 0.4462 - val_accuracy: 0.8219\n",
      "Epoch 16/20\n",
      "90/90 [==============================] - 113s 1s/step - loss: 0.4797 - accuracy: 0.7802 - val_loss: 0.4447 - val_accuracy: 0.8219\n",
      "Epoch 17/20\n",
      "90/90 [==============================] - 110s 1s/step - loss: 0.4777 - accuracy: 0.7795 - val_loss: 0.4428 - val_accuracy: 0.8219\n",
      "Epoch 18/20\n",
      "90/90 [==============================] - 112s 1s/step - loss: 0.4753 - accuracy: 0.7844 - val_loss: 0.4409 - val_accuracy: 0.8281\n",
      "Epoch 19/20\n",
      "90/90 [==============================] - 112s 1s/step - loss: 0.4727 - accuracy: 0.7851 - val_loss: 0.4395 - val_accuracy: 0.8313\n",
      "Epoch 20/20\n",
      "90/90 [==============================] - 107s 1s/step - loss: 0.4703 - accuracy: 0.7861 - val_loss: 0.4381 - val_accuracy: 0.8250\n"
     ]
    }
   ],
   "source": [
    "history = model.fit(train_gen,\n",
    "                    epochs = 20,\n",
    "                    verbose = 1,\n",
    "                    validation_data = val_gen\n",
    "                   )"
   ]
  },
  {
   "cell_type": "code",
   "execution_count": 91,
   "metadata": {},
   "outputs": [
    {
     "data": {
      "image/png": "[encoded data removed]",
      "text/plain": [
       "<Figure size 432x288 with 1 Axes>"
      ]
     },
     "metadata": {
      "needs_background": "light"
     },
     "output_type": "display_data"
    },
    {
     "data": {
      "image/png": "[encoded data removed]",
      "text/plain": [
       "<Figure size 432x288 with 1 Axes>"
      ]
     },
     "metadata": {
      "needs_background": "light"
     },
     "output_type": "display_data"
    }
   ],
   "source": [
    "acc = history.history['accuracy']\n",
    "loss = history.history['loss']\n",
    "val_acc = history.history['val_accuracy']\n",
    "val_loss = history.history['val_loss']\n",
    "\n",
    "plt.plot(history.history['accuracy'])\n",
    "plt.plot(history.history['val_accuracy'])\n",
    "plt.title('model accuracy')\n",
    "plt.ylabel('accuracy')\n",
    "plt.xlabel('epoch')\n",
    "plt.legend(['train', 'test'], loc='upper left')\n",
    "plt.show()\n",
    "\n",
    "plt.plot(history.history['loss'])\n",
    "plt.plot(history.history['val_loss'])\n",
    "plt.title('model loss')\n",
    "plt.ylabel('loss')\n",
    "plt.xlabel('epoch')\n",
    "plt.legend(['train', 'test'], loc='upper left')\n",
    "plt.show()"
   ]
  },
  {
   "cell_type": "code",
   "execution_count": 92,
   "metadata": {},
   "outputs": [],
   "source": [
    "model.save(\"model-v2-from-image.h5\")"
   ]
  },
  {
   "cell_type": "code",
   "execution_count": 83,
   "metadata": {},
   "outputs": [],
   "source": [
    "tf.keras.backend.clear_session()"
   ]
  },
  {
   "cell_type": "code",
   "execution_count": 95,
   "metadata": {},
   "outputs": [
    {
     "name": "stdout",
     "output_type": "stream",
     "text": [
      "Model: \"sequential_4\"\n",
      "_________________________________________________________________\n",
      "Layer (type)                 Output Shape              Param #   \n",
      "=================================================================\n",
      "conv2d_31 (Conv2D)           (None, 224, 224, 64)      1792      \n",
      "_________________________________________________________________\n",
      "conv2d_32 (Conv2D)           (None, 224, 224, 64)      36928     \n",
      "_________________________________________________________________\n",
      "max_pooling2d_14 (MaxPooling (None, 112, 112, 64)      0         \n",
      "_________________________________________________________________\n",
      "conv2d_33 (Conv2D)           (None, 112, 112, 128)     73856     \n",
      "_________________________________________________________________\n",
      "conv2d_34 (Conv2D)           (None, 112, 112, 128)     147584    \n",
      "_________________________________________________________________\n",
      "max_pooling2d_15 (MaxPooling (None, 56, 56, 128)       0         \n",
      "_________________________________________________________________\n",
      "conv2d_35 (Conv2D)           (None, 56, 56, 256)       295168    \n",
      "_________________________________________________________________\n",
      "conv2d_36 (Conv2D)           (None, 56, 56, 256)       590080    \n",
      "_________________________________________________________________\n",
      "conv2d_37 (Conv2D)           (None, 56, 56, 256)       590080    \n",
      "_________________________________________________________________\n",
      "max_pooling2d_16 (MaxPooling (None, 28, 28, 256)       0         \n",
      "_________________________________________________________________\n",
      "conv2d_38 (Conv2D)           (None, 28, 28, 512)       1180160   \n",
      "_________________________________________________________________\n",
      "conv2d_39 (Conv2D)           (None, 28, 28, 512)       2359808   \n",
      "_________________________________________________________________\n",
      "conv2d_40 (Conv2D)           (None, 28, 28, 512)       2359808   \n",
      "_________________________________________________________________\n",
      "max_pooling2d_17 (MaxPooling (None, 14, 14, 512)       0         \n",
      "_________________________________________________________________\n",
      "conv2d_41 (Conv2D)           (None, 14, 14, 512)       2359808   \n",
      "_________________________________________________________________\n",
      "conv2d_42 (Conv2D)           (None, 14, 14, 512)       2359808   \n",
      "_________________________________________________________________\n",
      "conv2d_43 (Conv2D)           (None, 14, 14, 512)       2359808   \n",
      "_________________________________________________________________\n",
      "max_pooling2d_18 (MaxPooling (None, 7, 7, 512)         0         \n",
      "_________________________________________________________________\n",
      "flatten_2 (Flatten)          (None, 25088)             0         \n",
      "_________________________________________________________________\n",
      "dense_2 (Dense)              (None, 4096)              102764544 \n",
      "_________________________________________________________________\n",
      "dense_3 (Dense)              (None, 4096)              16781312  \n",
      "_________________________________________________________________\n",
      "dense_4 (Dense)              (None, 2)                 8194      \n",
      "=================================================================\n",
      "Total params: 134,268,738\n",
      "Trainable params: 134,268,738\n",
      "Non-trainable params: 0\n",
      "_________________________________________________________________\n"
     ]
    }
   ],
   "source": [
    "model2 = Sequential()\n",
    "model2.add(Conv2D(64, (3,3), activation='relu', padding='same', input_shape=(224, 224, 3)))\n",
    "model2.add(Conv2D(64, (3,3), activation='relu', padding='same'))\n",
    "#first pooling\n",
    "model2.add(MaxPooling2D(2, 2))\n",
    "model2.add(Conv2D(128, (3,3), activation='relu', padding='same'))\n",
    "model2.add(Conv2D(128, (3,3), activation='relu', padding='same'))\n",
    "#second pooling\n",
    "model2.add(MaxPooling2D(2, 2))\n",
    "model2.add(Conv2D(256, (3,3), activation='relu', padding='same'))\n",
    "model2.add(Conv2D(256, (3,3), activation='relu', padding='same'))\n",
    "model2.add(Conv2D(256, (3,3), activation='relu', padding='same'))\n",
    "#third pooling\n",
    "model2.add(MaxPooling2D(2, 2))\n",
    "model2.add(Conv2D(512, (3,3), activation='relu', padding='same'))\n",
    "model2.add(Conv2D(512, (3,3), activation='relu', padding='same'))\n",
    "model2.add(Conv2D(512, (3,3), activation='relu', padding='same'))\n",
    "#fourth pooling\n",
    "model2.add(MaxPooling2D(2, 2))\n",
    "model2.add(Conv2D(512, (3,3), activation='relu', padding='same'))\n",
    "model2.add(Conv2D(512, (3,3), activation='relu', padding='same'))\n",
    "model2.add(Conv2D(512, (3,3), activation='relu', padding='same'))\n",
    "#fifth pooling\n",
    "model2.add(MaxPooling2D(2, 2))\n",
    "model2.add(Flatten())\n",
    "model2.add(Dense(4096, activation='relu'))\n",
    "model2.add(Dense(4096, activation='relu'))\n",
    "model2.add(Dense(2, activation='softmax'))\n",
    "\n",
    "model2.summary()"
   ]
  },
  {
   "cell_type": "code",
   "execution_count": 96,
   "metadata": {},
   "outputs": [],
   "source": [
    "model2.compile(optimizer=Adam(lr=0.001), loss='binary_crossentropy', metrics=['accuracy'])"
   ]
  },
  {
   "cell_type": "code",
   "execution_count": 97,
   "metadata": {},
   "outputs": [
    {
     "name": "stdout",
     "output_type": "stream",
     "text": [
      "Found 2880 images belonging to 2 classes.\n",
      "Found 320 images belonging to 2 classes.\n"
     ]
    }
   ],
   "source": [
    "train_datagen = image_datagen.flow_from_directory(TRAIN_DATA,\n",
    "                                              batch_size = 32,\n",
    "                                              class_mode = 'binary',\n",
    "                                              target_size = (240, 240))\n",
    "\n",
    "val_datagen = image_datagen.flow_from_directory(VAL_DATA,\n",
    "                                              batch_size = 32,\n",
    "                                              class_mode = 'binary',\n",
    "                                              target_size = (240, 240))"
   ]
  },
  {
   "cell_type": "code",
   "execution_count": null,
   "metadata": {},
   "outputs": [
    {
     "name": "stdout",
     "output_type": "stream",
     "text": [
      "WARNING:tensorflow:sample_weight modes were coerced from\n",
      "  ...\n",
      "    to  \n",
      "  ['...']\n",
      "WARNING:tensorflow:sample_weight modes were coerced from\n",
      "  ...\n",
      "    to  \n",
      "  ['...']\n",
      "Train for 90 steps, validate for 10 steps\n",
      "Epoch 1/20\n",
      " 1/90 [..............................] - ETA: 2:16:09 - loss: 0.6931 - accuracy: 0.5000"
     ]
    }
   ],
   "source": [
    "history2 = model2.fit(train_datagen,\n",
    "                      epochs = 20,\n",
    "                      verbose = 1,\n",
    "                      validation_data = val_datagen)"
   ]
  },
  {
   "cell_type": "code",
   "execution_count": null,
   "metadata": {},
   "outputs": [],
   "source": []
  }
 ],
 "metadata": {
  "kernelspec": {
   "display_name": "Python 3",
   "language": "python",
   "name": "python3"
  },
  "language_info": {
   "codemirror_mode": {
    "name": "ipython",
    "version": 3
   },
   "file_extension": ".py",
   "mimetype": "text/x-python",
   "name": "python",
   "nbconvert_exporter": "python",
   "pygments_lexer": "ipython3",
   "version": "3.7.7"
  }
 },
 "nbformat": 4,
 "nbformat_minor": 4
}
